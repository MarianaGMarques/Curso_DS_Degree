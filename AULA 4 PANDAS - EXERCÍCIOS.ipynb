{
 "cells": [
  {
   "cell_type": "markdown",
   "id": "ef2fbd01",
   "metadata": {},
   "source": [
    "## Exercícios"
   ]
  },
  {
   "cell_type": "markdown",
   "id": "69452b90",
   "metadata": {},
   "source": [
    "1. Considere a existência de três tabelas distintas:\n",
    "* customer.csv : Possui a informação dos clientes em duas colunas: customer id  customer name\n",
    "* products.csv : Contém informação dos produtos vendidos pela empresa em três colunas - p_id (product id), product (name) e price\n",
    "* sales.csv : Contém informações das vendas realizadas em seis colunas - sale_id, c_id (customer id), p_id (product_id), qty (quantity sold), store (name)\n",
    "\n",
    "Conhecendo as bases responda:\n",
    "\n",
    "a) Quais foram os produtos vendidos? \n"
   ]
  },
  {
   "cell_type": "code",
   "execution_count": 2,
   "id": "6489cebe",
   "metadata": {},
   "outputs": [],
   "source": [
    "import numpy as np\n",
    "import pandas as pd"
   ]
  },
  {
   "cell_type": "code",
   "execution_count": 8,
   "id": "70615c9d",
   "metadata": {},
   "outputs": [
    {
     "name": "stdout",
     "output_type": "stream",
     "text": [
      "   sale_id  c_id  p_id  product  qty store\n",
      "0        1     2     3  Monitor    2   ABC\n",
      "1        2     2     4      CPU    1   DEF\n",
      "2        3     1     3  Monitor    3   ABC\n",
      "3        4     4     2      RAM    2   DEF\n",
      "4        5     2     3  Monitor    3   ABC\n",
      "5        6     3     3  Monitor    2   DEF\n",
      "6        7     2     2      RAM    3   ABC\n",
      "7        8     3     2      RAM    2   DEF\n",
      "8        9     2     3  Monitor    2   ABC\n"
     ]
    }
   ],
   "source": [
    "df_customer = pd.read_csv(\"data/customer.csv\")\n",
    "df_products = pd.read_csv(\"data/products.csv\")\n",
    "df_sales = pd.read_csv(\"data/sales.csv\")\n",
    "print (df_sales)"
   ]
  },
  {
   "cell_type": "code",
   "execution_count": 9,
   "id": "74120d1a",
   "metadata": {},
   "outputs": [
    {
     "data": {
      "text/plain": [
       "array(['Monitor', 'CPU', 'RAM'], dtype=object)"
      ]
     },
     "execution_count": 9,
     "metadata": {},
     "output_type": "execute_result"
    }
   ],
   "source": [
    "vendidos = df_sales['product'].unique()\n",
    "vendidos"
   ]
  },
  {
   "cell_type": "markdown",
   "id": "930b7242",
   "metadata": {},
   "source": [
    "b) E os não vendidos?"
   ]
  },
  {
   "cell_type": "code",
   "execution_count": 13,
   "id": "872c0301",
   "metadata": {},
   "outputs": [
    {
     "data": {
      "text/plain": [
       "array(['Hard Disk', 'Keyboard', 'Mouse', 'Motherboard', 'Power supply'],\n",
       "      dtype=object)"
      ]
     },
     "execution_count": 13,
     "metadata": {},
     "output_type": "execute_result"
    }
   ],
   "source": [
    "produto = df_products['product'].unique()\n",
    "nao_vendidos = np.isin(produto, vendidos, invert=True)\n",
    "nao_vendidos = produto[nao_vendidos]\n",
    "nao_vendidos"
   ]
  },
  {
   "cell_type": "markdown",
   "id": "9a089f4a",
   "metadata": {},
   "source": [
    "c) Quais foram as cinco maiores vendas? Salve essas vendas em um arquivo excel."
   ]
  },
  {
   "cell_type": "code",
   "execution_count": 16,
   "id": "688e3845",
   "metadata": {},
   "outputs": [
    {
     "data": {
      "text/html": [
       "<div>\n",
       "<style scoped>\n",
       "    .dataframe tbody tr th:only-of-type {\n",
       "        vertical-align: middle;\n",
       "    }\n",
       "\n",
       "    .dataframe tbody tr th {\n",
       "        vertical-align: top;\n",
       "    }\n",
       "\n",
       "    .dataframe thead th {\n",
       "        text-align: right;\n",
       "    }\n",
       "</style>\n",
       "<table border=\"1\" class=\"dataframe\">\n",
       "  <thead>\n",
       "    <tr style=\"text-align: right;\">\n",
       "      <th></th>\n",
       "      <th>sale_id</th>\n",
       "      <th>c_id</th>\n",
       "      <th>p_id</th>\n",
       "      <th>product</th>\n",
       "      <th>qty</th>\n",
       "      <th>store</th>\n",
       "    </tr>\n",
       "  </thead>\n",
       "  <tbody>\n",
       "    <tr>\n",
       "      <th>2</th>\n",
       "      <td>3</td>\n",
       "      <td>1</td>\n",
       "      <td>3</td>\n",
       "      <td>Monitor</td>\n",
       "      <td>3</td>\n",
       "      <td>ABC</td>\n",
       "    </tr>\n",
       "    <tr>\n",
       "      <th>4</th>\n",
       "      <td>5</td>\n",
       "      <td>2</td>\n",
       "      <td>3</td>\n",
       "      <td>Monitor</td>\n",
       "      <td>3</td>\n",
       "      <td>ABC</td>\n",
       "    </tr>\n",
       "    <tr>\n",
       "      <th>6</th>\n",
       "      <td>7</td>\n",
       "      <td>2</td>\n",
       "      <td>2</td>\n",
       "      <td>RAM</td>\n",
       "      <td>3</td>\n",
       "      <td>ABC</td>\n",
       "    </tr>\n",
       "    <tr>\n",
       "      <th>0</th>\n",
       "      <td>1</td>\n",
       "      <td>2</td>\n",
       "      <td>3</td>\n",
       "      <td>Monitor</td>\n",
       "      <td>2</td>\n",
       "      <td>ABC</td>\n",
       "    </tr>\n",
       "    <tr>\n",
       "      <th>3</th>\n",
       "      <td>4</td>\n",
       "      <td>4</td>\n",
       "      <td>2</td>\n",
       "      <td>RAM</td>\n",
       "      <td>2</td>\n",
       "      <td>DEF</td>\n",
       "    </tr>\n",
       "  </tbody>\n",
       "</table>\n",
       "</div>"
      ],
      "text/plain": [
       "   sale_id  c_id  p_id  product  qty store\n",
       "2        3     1     3  Monitor    3   ABC\n",
       "4        5     2     3  Monitor    3   ABC\n",
       "6        7     2     2      RAM    3   ABC\n",
       "0        1     2     3  Monitor    2   ABC\n",
       "3        4     4     2      RAM    2   DEF"
      ]
     },
     "execution_count": 16,
     "metadata": {},
     "output_type": "execute_result"
    }
   ],
   "source": [
    "maiores_vendas = sales.sort_values('qty', ascending=False)\n",
    "maiores_vendas.head(5)"
   ]
  },
  {
   "cell_type": "code",
   "execution_count": 17,
   "id": "5df53b11",
   "metadata": {},
   "outputs": [],
   "source": [
    "maiores_vendas.to_excel('./data/maiores_vendas.xlsx')"
   ]
  },
  {
   "cell_type": "markdown",
   "id": "e2c24c74",
   "metadata": {},
   "source": [
    "d) Liste a quantidade vendida de cada produto. Utilize um loop for para isso."
   ]
  },
  {
   "cell_type": "code",
   "execution_count": 18,
   "id": "a3cbe418",
   "metadata": {},
   "outputs": [
    {
     "name": "stdout",
     "output_type": "stream",
     "text": [
      "Monitor 12\n",
      "CPU 1\n",
      "RAM 7\n"
     ]
    }
   ],
   "source": [
    "for i in sales['product'].unique():\n",
    "    print(i, sales[sales['product']==i].qty.sum())"
   ]
  },
  {
   "cell_type": "markdown",
   "id": "bd9a4ab0",
   "metadata": {},
   "source": [
    "e) Liste a quantidade vendida de cada loja."
   ]
  },
  {
   "cell_type": "code",
   "execution_count": 19,
   "id": "c880a6b2",
   "metadata": {},
   "outputs": [
    {
     "name": "stdout",
     "output_type": "stream",
     "text": [
      "ABC 13\n",
      "DEF 7\n"
     ]
    }
   ],
   "source": [
    "for i in sales['store'].unique():\n",
    "    print(i, sales[sales['store']==i].qty.sum())"
   ]
  },
  {
   "cell_type": "markdown",
   "id": "3ea54dc2",
   "metadata": {},
   "source": [
    "f) Liste a quantidade vendida de cada produto por loja."
   ]
  },
  {
   "cell_type": "code",
   "execution_count": null,
   "id": "c1cacb69",
   "metadata": {},
   "outputs": [],
   "source": []
  }
 ],
 "metadata": {
  "kernelspec": {
   "display_name": "Python 3 (ipykernel)",
   "language": "python",
   "name": "python3"
  },
  "language_info": {
   "codemirror_mode": {
    "name": "ipython",
    "version": 3
   },
   "file_extension": ".py",
   "mimetype": "text/x-python",
   "name": "python",
   "nbconvert_exporter": "python",
   "pygments_lexer": "ipython3",
   "version": "3.10.1"
  }
 },
 "nbformat": 4,
 "nbformat_minor": 5
}
